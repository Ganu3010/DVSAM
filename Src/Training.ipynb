{
 "cells": [
  {
   "cell_type": "code",
   "execution_count": 1,
   "id": "d5b2f644",
   "metadata": {},
   "outputs": [],
   "source": [
    "import numpy as np\n",
    "import tensorflow as tf\n",
    "\n",
    "import pandas as pd\n",
    "import tensorflow_recommenders as tfrs\n",
    "import tensorflow_datasets as tfds"
   ]
  },
  {
   "cell_type": "code",
   "execution_count": 9,
   "id": "31fb2f24",
   "metadata": {},
   "outputs": [],
   "source": [
    "rating = pd.read_csv(\"Final_Data/rating.csv\")\n",
    "rests = pd.read_csv(\"Final_Data/rests.csv\")"
   ]
  },
  {
   "cell_type": "code",
   "execution_count": 10,
   "id": "f9025707",
   "metadata": {},
   "outputs": [],
   "source": [
    "rating = tf.convert_to_tensor(rating)\n",
    "rests = tf.convert_to_tensor(rests)"
   ]
  },
  {
   "cell_type": "code",
   "execution_count": 15,
   "id": "3bcc63ab",
   "metadata": {},
   "outputs": [
    {
     "name": "stdout",
     "output_type": "stream",
     "text": [
      "<class 'tensorflow.python.framework.ops.EagerTensor'>\n"
     ]
    }
   ],
   "source": [
    "print(type(rating))"
   ]
  },
  {
   "cell_type": "code",
   "execution_count": 18,
   "id": "03228170",
   "metadata": {
    "scrolled": false
   },
   "outputs": [
    {
     "ename": "UnimplementedError",
     "evalue": "Graph execution error:\n\nDetected at node 'Cast' defined at (most recent call last):\n    File \"C:\\Users\\Manas Sewatkar\\AppData\\Local\\Programs\\Python\\Python39\\lib\\runpy.py\", line 197, in _run_module_as_main\n      return _run_code(code, main_globals, None,\n    File \"C:\\Users\\Manas Sewatkar\\AppData\\Local\\Programs\\Python\\Python39\\lib\\runpy.py\", line 87, in _run_code\n      exec(code, run_globals)\n    File \"D:\\My Docs\\PICT CS\\SE_21_22\\PBL\\DVSAM\\Src\\mltfrs\\lib\\site-packages\\ipykernel_launcher.py\", line 17, in <module>\n      app.launch_new_instance()\n    File \"D:\\My Docs\\PICT CS\\SE_21_22\\PBL\\DVSAM\\Src\\mltfrs\\lib\\site-packages\\traitlets\\config\\application.py\", line 846, in launch_instance\n      app.start()\n    File \"D:\\My Docs\\PICT CS\\SE_21_22\\PBL\\DVSAM\\Src\\mltfrs\\lib\\site-packages\\ipykernel\\kernelapp.py\", line 712, in start\n      self.io_loop.start()\n    File \"D:\\My Docs\\PICT CS\\SE_21_22\\PBL\\DVSAM\\Src\\mltfrs\\lib\\site-packages\\tornado\\platform\\asyncio.py\", line 199, in start\n      self.asyncio_loop.run_forever()\n    File \"C:\\Users\\Manas Sewatkar\\AppData\\Local\\Programs\\Python\\Python39\\lib\\asyncio\\base_events.py\", line 596, in run_forever\n      self._run_once()\n    File \"C:\\Users\\Manas Sewatkar\\AppData\\Local\\Programs\\Python\\Python39\\lib\\asyncio\\base_events.py\", line 1890, in _run_once\n      handle._run()\n    File \"C:\\Users\\Manas Sewatkar\\AppData\\Local\\Programs\\Python\\Python39\\lib\\asyncio\\events.py\", line 80, in _run\n      self._context.run(self._callback, *self._args)\n    File \"D:\\My Docs\\PICT CS\\SE_21_22\\PBL\\DVSAM\\Src\\mltfrs\\lib\\site-packages\\ipykernel\\kernelbase.py\", line 504, in dispatch_queue\n      await self.process_one()\n    File \"D:\\My Docs\\PICT CS\\SE_21_22\\PBL\\DVSAM\\Src\\mltfrs\\lib\\site-packages\\ipykernel\\kernelbase.py\", line 493, in process_one\n      await dispatch(*args)\n    File \"D:\\My Docs\\PICT CS\\SE_21_22\\PBL\\DVSAM\\Src\\mltfrs\\lib\\site-packages\\ipykernel\\kernelbase.py\", line 400, in dispatch_shell\n      await result\n    File \"D:\\My Docs\\PICT CS\\SE_21_22\\PBL\\DVSAM\\Src\\mltfrs\\lib\\site-packages\\ipykernel\\kernelbase.py\", line 724, in execute_request\n      reply_content = await reply_content\n    File \"D:\\My Docs\\PICT CS\\SE_21_22\\PBL\\DVSAM\\Src\\mltfrs\\lib\\site-packages\\ipykernel\\ipkernel.py\", line 383, in do_execute\n      res = shell.run_cell(\n    File \"D:\\My Docs\\PICT CS\\SE_21_22\\PBL\\DVSAM\\Src\\mltfrs\\lib\\site-packages\\ipykernel\\zmqshell.py\", line 528, in run_cell\n      return super().run_cell(*args, **kwargs)\n    File \"D:\\My Docs\\PICT CS\\SE_21_22\\PBL\\DVSAM\\Src\\mltfrs\\lib\\site-packages\\IPython\\core\\interactiveshell.py\", line 2880, in run_cell\n      result = self._run_cell(\n    File \"D:\\My Docs\\PICT CS\\SE_21_22\\PBL\\DVSAM\\Src\\mltfrs\\lib\\site-packages\\IPython\\core\\interactiveshell.py\", line 2935, in _run_cell\n      return runner(coro)\n    File \"D:\\My Docs\\PICT CS\\SE_21_22\\PBL\\DVSAM\\Src\\mltfrs\\lib\\site-packages\\IPython\\core\\async_helpers.py\", line 129, in _pseudo_sync_runner\n      coro.send(None)\n    File \"D:\\My Docs\\PICT CS\\SE_21_22\\PBL\\DVSAM\\Src\\mltfrs\\lib\\site-packages\\IPython\\core\\interactiveshell.py\", line 3134, in run_cell_async\n      has_raised = await self.run_ast_nodes(code_ast.body, cell_name,\n    File \"D:\\My Docs\\PICT CS\\SE_21_22\\PBL\\DVSAM\\Src\\mltfrs\\lib\\site-packages\\IPython\\core\\interactiveshell.py\", line 3337, in run_ast_nodes\n      if await self.run_code(code, result, async_=asy):\n    File \"D:\\My Docs\\PICT CS\\SE_21_22\\PBL\\DVSAM\\Src\\mltfrs\\lib\\site-packages\\IPython\\core\\interactiveshell.py\", line 3397, in run_code\n      exec(code_obj, self.user_global_ns, self.user_ns)\n    File \"C:\\Users\\Manas Sewatkar\\AppData\\Local\\Temp\\ipykernel_34672\\1562505329.py\", line 2, in <cell line: 2>\n      user_ids_vocabulary.adapt(rating)\n    File \"D:\\My Docs\\PICT CS\\SE_21_22\\PBL\\DVSAM\\Src\\mltfrs\\lib\\site-packages\\keras\\layers\\preprocessing\\string_lookup.py\", line 396, in adapt\n      super().adapt(data, batch_size=batch_size, steps=steps)\n    File \"D:\\My Docs\\PICT CS\\SE_21_22\\PBL\\DVSAM\\Src\\mltfrs\\lib\\site-packages\\keras\\engine\\base_preprocessing_layer.py\", line 249, in adapt\n      self._adapt_function(iterator)\n    File \"D:\\My Docs\\PICT CS\\SE_21_22\\PBL\\DVSAM\\Src\\mltfrs\\lib\\site-packages\\keras\\engine\\base_preprocessing_layer.py\", line 118, in adapt_step\n      self.update_state(data)\n    File \"D:\\My Docs\\PICT CS\\SE_21_22\\PBL\\DVSAM\\Src\\mltfrs\\lib\\site-packages\\keras\\layers\\preprocessing\\index_lookup.py\", line 531, in update_state\n      data = utils.ensure_tensor(data, dtype=self.vocabulary_dtype)\n    File \"D:\\My Docs\\PICT CS\\SE_21_22\\PBL\\DVSAM\\Src\\mltfrs\\lib\\site-packages\\keras\\layers\\preprocessing\\preprocessing_utils.py\", line 33, in ensure_tensor\n      inputs = tf.cast(inputs, dtype)\nNode: 'Cast'\nCast double to string is not supported\n\t [[{{node Cast}}]] [Op:__inference_adapt_step_95]",
     "output_type": "error",
     "traceback": [
      "\u001b[1;31m---------------------------------------------------------------------------\u001b[0m",
      "\u001b[1;31mUnimplementedError\u001b[0m                        Traceback (most recent call last)",
      "Input \u001b[1;32mIn [18]\u001b[0m, in \u001b[0;36m<cell line: 2>\u001b[1;34m()\u001b[0m\n\u001b[0;32m      1\u001b[0m user_ids_vocabulary \u001b[38;5;241m=\u001b[39m tf\u001b[38;5;241m.\u001b[39mkeras\u001b[38;5;241m.\u001b[39mlayers\u001b[38;5;241m.\u001b[39mStringLookup(mask_token\u001b[38;5;241m=\u001b[39m\u001b[38;5;28;01mNone\u001b[39;00m)\n\u001b[1;32m----> 2\u001b[0m \u001b[43muser_ids_vocabulary\u001b[49m\u001b[38;5;241;43m.\u001b[39;49m\u001b[43madapt\u001b[49m\u001b[43m(\u001b[49m\u001b[43mrating\u001b[49m\u001b[43m)\u001b[49m\n\u001b[0;32m      4\u001b[0m movie_titles_vocabulary \u001b[38;5;241m=\u001b[39m tf\u001b[38;5;241m.\u001b[39mkeras\u001b[38;5;241m.\u001b[39mlayers\u001b[38;5;241m.\u001b[39mStringLookup(mask_token\u001b[38;5;241m=\u001b[39m\u001b[38;5;28;01mNone\u001b[39;00m)\n\u001b[0;32m      5\u001b[0m movie_titles_vocabulary\u001b[38;5;241m.\u001b[39madapt(rests)\n",
      "File \u001b[1;32mD:\\My Docs\\PICT CS\\SE_21_22\\PBL\\DVSAM\\Src\\mltfrs\\lib\\site-packages\\keras\\layers\\preprocessing\\string_lookup.py:396\u001b[0m, in \u001b[0;36mStringLookup.adapt\u001b[1;34m(self, data, batch_size, steps)\u001b[0m\n\u001b[0;32m    349\u001b[0m \u001b[38;5;28;01mdef\u001b[39;00m \u001b[38;5;21madapt\u001b[39m(\u001b[38;5;28mself\u001b[39m, data, batch_size\u001b[38;5;241m=\u001b[39m\u001b[38;5;28;01mNone\u001b[39;00m, steps\u001b[38;5;241m=\u001b[39m\u001b[38;5;28;01mNone\u001b[39;00m):\n\u001b[0;32m    350\u001b[0m   \u001b[38;5;124;03m\"\"\"Computes a vocabulary of string terms from tokens in a dataset.\u001b[39;00m\n\u001b[0;32m    351\u001b[0m \n\u001b[0;32m    352\u001b[0m \u001b[38;5;124;03m  Calling `adapt()` on a `StringLookup` layer is an alternative to passing in\u001b[39;00m\n\u001b[1;32m   (...)\u001b[0m\n\u001b[0;32m    394\u001b[0m \u001b[38;5;124;03m        argument is not supported with array inputs.\u001b[39;00m\n\u001b[0;32m    395\u001b[0m \u001b[38;5;124;03m  \"\"\"\u001b[39;00m\n\u001b[1;32m--> 396\u001b[0m   \u001b[38;5;28;43msuper\u001b[39;49m\u001b[43m(\u001b[49m\u001b[43m)\u001b[49m\u001b[38;5;241;43m.\u001b[39;49m\u001b[43madapt\u001b[49m\u001b[43m(\u001b[49m\u001b[43mdata\u001b[49m\u001b[43m,\u001b[49m\u001b[43m \u001b[49m\u001b[43mbatch_size\u001b[49m\u001b[38;5;241;43m=\u001b[39;49m\u001b[43mbatch_size\u001b[49m\u001b[43m,\u001b[49m\u001b[43m \u001b[49m\u001b[43msteps\u001b[49m\u001b[38;5;241;43m=\u001b[39;49m\u001b[43msteps\u001b[49m\u001b[43m)\u001b[49m\n",
      "File \u001b[1;32mD:\\My Docs\\PICT CS\\SE_21_22\\PBL\\DVSAM\\Src\\mltfrs\\lib\\site-packages\\keras\\engine\\base_preprocessing_layer.py:249\u001b[0m, in \u001b[0;36mPreprocessingLayer.adapt\u001b[1;34m(self, data, batch_size, steps)\u001b[0m\n\u001b[0;32m    247\u001b[0m \u001b[38;5;28;01mwith\u001b[39;00m data_handler\u001b[38;5;241m.\u001b[39mcatch_stop_iteration():\n\u001b[0;32m    248\u001b[0m   \u001b[38;5;28;01mfor\u001b[39;00m _ \u001b[38;5;129;01min\u001b[39;00m data_handler\u001b[38;5;241m.\u001b[39msteps():\n\u001b[1;32m--> 249\u001b[0m     \u001b[38;5;28;43mself\u001b[39;49m\u001b[38;5;241;43m.\u001b[39;49m\u001b[43m_adapt_function\u001b[49m\u001b[43m(\u001b[49m\u001b[43miterator\u001b[49m\u001b[43m)\u001b[49m\n\u001b[0;32m    250\u001b[0m     \u001b[38;5;28;01mif\u001b[39;00m data_handler\u001b[38;5;241m.\u001b[39mshould_sync:\n\u001b[0;32m    251\u001b[0m       context\u001b[38;5;241m.\u001b[39masync_wait()\n",
      "File \u001b[1;32mD:\\My Docs\\PICT CS\\SE_21_22\\PBL\\DVSAM\\Src\\mltfrs\\lib\\site-packages\\tensorflow\\python\\util\\traceback_utils.py:153\u001b[0m, in \u001b[0;36mfilter_traceback.<locals>.error_handler\u001b[1;34m(*args, **kwargs)\u001b[0m\n\u001b[0;32m    151\u001b[0m \u001b[38;5;28;01mexcept\u001b[39;00m \u001b[38;5;167;01mException\u001b[39;00m \u001b[38;5;28;01mas\u001b[39;00m e:\n\u001b[0;32m    152\u001b[0m   filtered_tb \u001b[38;5;241m=\u001b[39m _process_traceback_frames(e\u001b[38;5;241m.\u001b[39m__traceback__)\n\u001b[1;32m--> 153\u001b[0m   \u001b[38;5;28;01mraise\u001b[39;00m e\u001b[38;5;241m.\u001b[39mwith_traceback(filtered_tb) \u001b[38;5;28;01mfrom\u001b[39;00m \u001b[38;5;28mNone\u001b[39m\n\u001b[0;32m    154\u001b[0m \u001b[38;5;28;01mfinally\u001b[39;00m:\n\u001b[0;32m    155\u001b[0m   \u001b[38;5;28;01mdel\u001b[39;00m filtered_tb\n",
      "File \u001b[1;32mD:\\My Docs\\PICT CS\\SE_21_22\\PBL\\DVSAM\\Src\\mltfrs\\lib\\site-packages\\tensorflow\\python\\eager\\execute.py:54\u001b[0m, in \u001b[0;36mquick_execute\u001b[1;34m(op_name, num_outputs, inputs, attrs, ctx, name)\u001b[0m\n\u001b[0;32m     52\u001b[0m \u001b[38;5;28;01mtry\u001b[39;00m:\n\u001b[0;32m     53\u001b[0m   ctx\u001b[38;5;241m.\u001b[39mensure_initialized()\n\u001b[1;32m---> 54\u001b[0m   tensors \u001b[38;5;241m=\u001b[39m pywrap_tfe\u001b[38;5;241m.\u001b[39mTFE_Py_Execute(ctx\u001b[38;5;241m.\u001b[39m_handle, device_name, op_name,\n\u001b[0;32m     55\u001b[0m                                       inputs, attrs, num_outputs)\n\u001b[0;32m     56\u001b[0m \u001b[38;5;28;01mexcept\u001b[39;00m core\u001b[38;5;241m.\u001b[39m_NotOkStatusException \u001b[38;5;28;01mas\u001b[39;00m e:\n\u001b[0;32m     57\u001b[0m   \u001b[38;5;28;01mif\u001b[39;00m name \u001b[38;5;129;01mis\u001b[39;00m \u001b[38;5;129;01mnot\u001b[39;00m \u001b[38;5;28;01mNone\u001b[39;00m:\n",
      "\u001b[1;31mUnimplementedError\u001b[0m: Graph execution error:\n\nDetected at node 'Cast' defined at (most recent call last):\n    File \"C:\\Users\\Manas Sewatkar\\AppData\\Local\\Programs\\Python\\Python39\\lib\\runpy.py\", line 197, in _run_module_as_main\n      return _run_code(code, main_globals, None,\n    File \"C:\\Users\\Manas Sewatkar\\AppData\\Local\\Programs\\Python\\Python39\\lib\\runpy.py\", line 87, in _run_code\n      exec(code, run_globals)\n    File \"D:\\My Docs\\PICT CS\\SE_21_22\\PBL\\DVSAM\\Src\\mltfrs\\lib\\site-packages\\ipykernel_launcher.py\", line 17, in <module>\n      app.launch_new_instance()\n    File \"D:\\My Docs\\PICT CS\\SE_21_22\\PBL\\DVSAM\\Src\\mltfrs\\lib\\site-packages\\traitlets\\config\\application.py\", line 846, in launch_instance\n      app.start()\n    File \"D:\\My Docs\\PICT CS\\SE_21_22\\PBL\\DVSAM\\Src\\mltfrs\\lib\\site-packages\\ipykernel\\kernelapp.py\", line 712, in start\n      self.io_loop.start()\n    File \"D:\\My Docs\\PICT CS\\SE_21_22\\PBL\\DVSAM\\Src\\mltfrs\\lib\\site-packages\\tornado\\platform\\asyncio.py\", line 199, in start\n      self.asyncio_loop.run_forever()\n    File \"C:\\Users\\Manas Sewatkar\\AppData\\Local\\Programs\\Python\\Python39\\lib\\asyncio\\base_events.py\", line 596, in run_forever\n      self._run_once()\n    File \"C:\\Users\\Manas Sewatkar\\AppData\\Local\\Programs\\Python\\Python39\\lib\\asyncio\\base_events.py\", line 1890, in _run_once\n      handle._run()\n    File \"C:\\Users\\Manas Sewatkar\\AppData\\Local\\Programs\\Python\\Python39\\lib\\asyncio\\events.py\", line 80, in _run\n      self._context.run(self._callback, *self._args)\n    File \"D:\\My Docs\\PICT CS\\SE_21_22\\PBL\\DVSAM\\Src\\mltfrs\\lib\\site-packages\\ipykernel\\kernelbase.py\", line 504, in dispatch_queue\n      await self.process_one()\n    File \"D:\\My Docs\\PICT CS\\SE_21_22\\PBL\\DVSAM\\Src\\mltfrs\\lib\\site-packages\\ipykernel\\kernelbase.py\", line 493, in process_one\n      await dispatch(*args)\n    File \"D:\\My Docs\\PICT CS\\SE_21_22\\PBL\\DVSAM\\Src\\mltfrs\\lib\\site-packages\\ipykernel\\kernelbase.py\", line 400, in dispatch_shell\n      await result\n    File \"D:\\My Docs\\PICT CS\\SE_21_22\\PBL\\DVSAM\\Src\\mltfrs\\lib\\site-packages\\ipykernel\\kernelbase.py\", line 724, in execute_request\n      reply_content = await reply_content\n    File \"D:\\My Docs\\PICT CS\\SE_21_22\\PBL\\DVSAM\\Src\\mltfrs\\lib\\site-packages\\ipykernel\\ipkernel.py\", line 383, in do_execute\n      res = shell.run_cell(\n    File \"D:\\My Docs\\PICT CS\\SE_21_22\\PBL\\DVSAM\\Src\\mltfrs\\lib\\site-packages\\ipykernel\\zmqshell.py\", line 528, in run_cell\n      return super().run_cell(*args, **kwargs)\n    File \"D:\\My Docs\\PICT CS\\SE_21_22\\PBL\\DVSAM\\Src\\mltfrs\\lib\\site-packages\\IPython\\core\\interactiveshell.py\", line 2880, in run_cell\n      result = self._run_cell(\n    File \"D:\\My Docs\\PICT CS\\SE_21_22\\PBL\\DVSAM\\Src\\mltfrs\\lib\\site-packages\\IPython\\core\\interactiveshell.py\", line 2935, in _run_cell\n      return runner(coro)\n    File \"D:\\My Docs\\PICT CS\\SE_21_22\\PBL\\DVSAM\\Src\\mltfrs\\lib\\site-packages\\IPython\\core\\async_helpers.py\", line 129, in _pseudo_sync_runner\n      coro.send(None)\n    File \"D:\\My Docs\\PICT CS\\SE_21_22\\PBL\\DVSAM\\Src\\mltfrs\\lib\\site-packages\\IPython\\core\\interactiveshell.py\", line 3134, in run_cell_async\n      has_raised = await self.run_ast_nodes(code_ast.body, cell_name,\n    File \"D:\\My Docs\\PICT CS\\SE_21_22\\PBL\\DVSAM\\Src\\mltfrs\\lib\\site-packages\\IPython\\core\\interactiveshell.py\", line 3337, in run_ast_nodes\n      if await self.run_code(code, result, async_=asy):\n    File \"D:\\My Docs\\PICT CS\\SE_21_22\\PBL\\DVSAM\\Src\\mltfrs\\lib\\site-packages\\IPython\\core\\interactiveshell.py\", line 3397, in run_code\n      exec(code_obj, self.user_global_ns, self.user_ns)\n    File \"C:\\Users\\Manas Sewatkar\\AppData\\Local\\Temp\\ipykernel_34672\\1562505329.py\", line 2, in <cell line: 2>\n      user_ids_vocabulary.adapt(rating)\n    File \"D:\\My Docs\\PICT CS\\SE_21_22\\PBL\\DVSAM\\Src\\mltfrs\\lib\\site-packages\\keras\\layers\\preprocessing\\string_lookup.py\", line 396, in adapt\n      super().adapt(data, batch_size=batch_size, steps=steps)\n    File \"D:\\My Docs\\PICT CS\\SE_21_22\\PBL\\DVSAM\\Src\\mltfrs\\lib\\site-packages\\keras\\engine\\base_preprocessing_layer.py\", line 249, in adapt\n      self._adapt_function(iterator)\n    File \"D:\\My Docs\\PICT CS\\SE_21_22\\PBL\\DVSAM\\Src\\mltfrs\\lib\\site-packages\\keras\\engine\\base_preprocessing_layer.py\", line 118, in adapt_step\n      self.update_state(data)\n    File \"D:\\My Docs\\PICT CS\\SE_21_22\\PBL\\DVSAM\\Src\\mltfrs\\lib\\site-packages\\keras\\layers\\preprocessing\\index_lookup.py\", line 531, in update_state\n      data = utils.ensure_tensor(data, dtype=self.vocabulary_dtype)\n    File \"D:\\My Docs\\PICT CS\\SE_21_22\\PBL\\DVSAM\\Src\\mltfrs\\lib\\site-packages\\keras\\layers\\preprocessing\\preprocessing_utils.py\", line 33, in ensure_tensor\n      inputs = tf.cast(inputs, dtype)\nNode: 'Cast'\nCast double to string is not supported\n\t [[{{node Cast}}]] [Op:__inference_adapt_step_95]"
     ]
    }
   ],
   "source": []
  },
  {
   "cell_type": "code",
   "execution_count": null,
   "id": "60afaf20",
   "metadata": {},
   "outputs": [],
   "source": []
  }
 ],
 "metadata": {
  "kernelspec": {
   "display_name": "mltfrs",
   "language": "python",
   "name": "mltfrs"
  },
  "language_info": {
   "codemirror_mode": {
    "name": "ipython",
    "version": 3
   },
   "file_extension": ".py",
   "mimetype": "text/x-python",
   "name": "python",
   "nbconvert_exporter": "python",
   "pygments_lexer": "ipython3",
   "version": "3.9.10"
  }
 },
 "nbformat": 4,
 "nbformat_minor": 5
}
